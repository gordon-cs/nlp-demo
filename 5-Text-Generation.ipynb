{
 "cells": [
  {
   "cell_type": "markdown",
   "metadata": {},
   "source": [
    "Nov 2022\n",
    "\n",
    "This is a fork of https://github.com/adashofdata/nlp-in-python-tutorial.  Rather than using the transcripts of stand-up comedians, it uses the text of New Testament books of the Bible."
   ]
  },
  {
   "cell_type": "markdown",
   "metadata": {},
   "source": [
    "# Text Generation"
   ]
  },
  {
   "cell_type": "markdown",
   "metadata": {},
   "source": [
    "## Introduction"
   ]
  },
  {
   "cell_type": "markdown",
   "metadata": {},
   "source": [
    "Markov chains can be used for very basic text generation. Think about every word in a corpus as a state. We can make a simple assumption that the next word is only dependent on the previous word - which is the basic assumption of a Markov chain.\n",
    "\n",
    "Markov chains don't generate text as well as deep learning, but it's a good (and fun!) start."
   ]
  },
  {
   "cell_type": "markdown",
   "metadata": {},
   "source": [
    "## Select Text to Imitate"
   ]
  },
  {
   "cell_type": "markdown",
   "metadata": {},
   "source": [
    "In this notebook, we're specifically going to generate text in the style of Paul, so as a first step, let's extract the text from his letters."
   ]
  },
  {
   "cell_type": "code",
   "execution_count": 1,
   "metadata": {},
   "outputs": [
    {
     "data": {
      "text/html": [
       "<div>\n",
       "<style scoped>\n",
       "    .dataframe tbody tr th:only-of-type {\n",
       "        vertical-align: middle;\n",
       "    }\n",
       "\n",
       "    .dataframe tbody tr th {\n",
       "        vertical-align: top;\n",
       "    }\n",
       "\n",
       "    .dataframe thead th {\n",
       "        text-align: right;\n",
       "    }\n",
       "</style>\n",
       "<table border=\"1\" class=\"dataframe\">\n",
       "  <thead>\n",
       "    <tr style=\"text-align: right;\">\n",
       "      <th></th>\n",
       "      <th>book_text</th>\n",
       "      <th>num_chapters</th>\n",
       "    </tr>\n",
       "  </thead>\n",
       "  <tbody>\n",
       "    <tr>\n",
       "      <th>Matthew</th>\n",
       "      <td>This is the record of the genealogy of Jesus ...</td>\n",
       "      <td>28</td>\n",
       "    </tr>\n",
       "    <tr>\n",
       "      <th>Mark</th>\n",
       "      <td>The beginning of the gospel of Jesus Christ, ...</td>\n",
       "      <td>16</td>\n",
       "    </tr>\n",
       "    <tr>\n",
       "      <th>Luke</th>\n",
       "      <td>Now many have undertaken to compile an accoun...</td>\n",
       "      <td>24</td>\n",
       "    </tr>\n",
       "    <tr>\n",
       "      <th>John</th>\n",
       "      <td>In the beginning was the Word, and the Word w...</td>\n",
       "      <td>21</td>\n",
       "    </tr>\n",
       "    <tr>\n",
       "      <th>Acts</th>\n",
       "      <td>I wrote the former account, Theophilus, about...</td>\n",
       "      <td>28</td>\n",
       "    </tr>\n",
       "    <tr>\n",
       "      <th>Romans</th>\n",
       "      <td>From Paul, a slave of Christ Jesus, called to...</td>\n",
       "      <td>16</td>\n",
       "    </tr>\n",
       "    <tr>\n",
       "      <th>1 Corinthians</th>\n",
       "      <td>From Paul, called to be an apostle of Christ ...</td>\n",
       "      <td>16</td>\n",
       "    </tr>\n",
       "    <tr>\n",
       "      <th>2 Corinthians</th>\n",
       "      <td>From Paul, an apostle of Christ Jesus by the ...</td>\n",
       "      <td>13</td>\n",
       "    </tr>\n",
       "    <tr>\n",
       "      <th>Galatians</th>\n",
       "      <td>From Paul, an apostle (not from men, nor by h...</td>\n",
       "      <td>6</td>\n",
       "    </tr>\n",
       "    <tr>\n",
       "      <th>Ephesians</th>\n",
       "      <td>From Paul, an apostle of Christ Jesus by the ...</td>\n",
       "      <td>6</td>\n",
       "    </tr>\n",
       "    <tr>\n",
       "      <th>Philippians</th>\n",
       "      <td>From Paul and Timothy, slaves of Christ Jesus...</td>\n",
       "      <td>4</td>\n",
       "    </tr>\n",
       "    <tr>\n",
       "      <th>Colossians</th>\n",
       "      <td>From Paul, an apostle of Christ Jesus by the ...</td>\n",
       "      <td>4</td>\n",
       "    </tr>\n",
       "    <tr>\n",
       "      <th>1 Thessalonians</th>\n",
       "      <td>From Paul and Silvanus and Timothy, to the ch...</td>\n",
       "      <td>5</td>\n",
       "    </tr>\n",
       "    <tr>\n",
       "      <th>2 Thessalonians</th>\n",
       "      <td>From Paul and Silvanus and Timothy, to the ch...</td>\n",
       "      <td>3</td>\n",
       "    </tr>\n",
       "    <tr>\n",
       "      <th>1 Timothy</th>\n",
       "      <td>From Paul, an apostle of Christ Jesus by the ...</td>\n",
       "      <td>6</td>\n",
       "    </tr>\n",
       "    <tr>\n",
       "      <th>2 Timothy</th>\n",
       "      <td>From Paul, an apostle of Christ Jesus by the ...</td>\n",
       "      <td>4</td>\n",
       "    </tr>\n",
       "    <tr>\n",
       "      <th>Titus</th>\n",
       "      <td>From Paul, a slave of God and apostle of Jesu...</td>\n",
       "      <td>3</td>\n",
       "    </tr>\n",
       "    <tr>\n",
       "      <th>Philemon</th>\n",
       "      <td>From Paul, a prisoner of Christ Jesus, and Ti...</td>\n",
       "      <td>1</td>\n",
       "    </tr>\n",
       "    <tr>\n",
       "      <th>Hebrews</th>\n",
       "      <td>After God spoke long ago in various portions ...</td>\n",
       "      <td>13</td>\n",
       "    </tr>\n",
       "    <tr>\n",
       "      <th>James</th>\n",
       "      <td>From James, a slave of God and the Lord Jesus...</td>\n",
       "      <td>5</td>\n",
       "    </tr>\n",
       "    <tr>\n",
       "      <th>1 Peter</th>\n",
       "      <td>From Peter, an apostle of Jesus Christ, to th...</td>\n",
       "      <td>5</td>\n",
       "    </tr>\n",
       "    <tr>\n",
       "      <th>2 Peter</th>\n",
       "      <td>From Simeon Peter, a slave and apostle of Jes...</td>\n",
       "      <td>3</td>\n",
       "    </tr>\n",
       "    <tr>\n",
       "      <th>1 John</th>\n",
       "      <td>This is what we proclaim to you: what was fro...</td>\n",
       "      <td>5</td>\n",
       "    </tr>\n",
       "    <tr>\n",
       "      <th>2 John</th>\n",
       "      <td>From the elder, to an elect lady and her chil...</td>\n",
       "      <td>1</td>\n",
       "    </tr>\n",
       "    <tr>\n",
       "      <th>3 John</th>\n",
       "      <td>From the elder, to Gaius my dear brother, who...</td>\n",
       "      <td>1</td>\n",
       "    </tr>\n",
       "    <tr>\n",
       "      <th>Jude</th>\n",
       "      <td>From Jude, a slave of Jesus Christ and brothe...</td>\n",
       "      <td>1</td>\n",
       "    </tr>\n",
       "    <tr>\n",
       "      <th>Revelation</th>\n",
       "      <td>The revelation of Jesus Christ, which God gav...</td>\n",
       "      <td>22</td>\n",
       "    </tr>\n",
       "  </tbody>\n",
       "</table>\n",
       "</div>"
      ],
      "text/plain": [
       "                                                         book_text  \\\n",
       "Matthew           This is the record of the genealogy of Jesus ...   \n",
       "Mark              The beginning of the gospel of Jesus Christ, ...   \n",
       "Luke              Now many have undertaken to compile an accoun...   \n",
       "John              In the beginning was the Word, and the Word w...   \n",
       "Acts              I wrote the former account, Theophilus, about...   \n",
       "Romans            From Paul, a slave of Christ Jesus, called to...   \n",
       "1 Corinthians     From Paul, called to be an apostle of Christ ...   \n",
       "2 Corinthians     From Paul, an apostle of Christ Jesus by the ...   \n",
       "Galatians         From Paul, an apostle (not from men, nor by h...   \n",
       "Ephesians         From Paul, an apostle of Christ Jesus by the ...   \n",
       "Philippians       From Paul and Timothy, slaves of Christ Jesus...   \n",
       "Colossians        From Paul, an apostle of Christ Jesus by the ...   \n",
       "1 Thessalonians   From Paul and Silvanus and Timothy, to the ch...   \n",
       "2 Thessalonians   From Paul and Silvanus and Timothy, to the ch...   \n",
       "1 Timothy         From Paul, an apostle of Christ Jesus by the ...   \n",
       "2 Timothy         From Paul, an apostle of Christ Jesus by the ...   \n",
       "Titus             From Paul, a slave of God and apostle of Jesu...   \n",
       "Philemon          From Paul, a prisoner of Christ Jesus, and Ti...   \n",
       "Hebrews           After God spoke long ago in various portions ...   \n",
       "James             From James, a slave of God and the Lord Jesus...   \n",
       "1 Peter           From Peter, an apostle of Jesus Christ, to th...   \n",
       "2 Peter           From Simeon Peter, a slave and apostle of Jes...   \n",
       "1 John            This is what we proclaim to you: what was fro...   \n",
       "2 John            From the elder, to an elect lady and her chil...   \n",
       "3 John            From the elder, to Gaius my dear brother, who...   \n",
       "Jude              From Jude, a slave of Jesus Christ and brothe...   \n",
       "Revelation        The revelation of Jesus Christ, which God gav...   \n",
       "\n",
       "                 num_chapters  \n",
       "Matthew                    28  \n",
       "Mark                       16  \n",
       "Luke                       24  \n",
       "John                       21  \n",
       "Acts                       28  \n",
       "Romans                     16  \n",
       "1 Corinthians              16  \n",
       "2 Corinthians              13  \n",
       "Galatians                   6  \n",
       "Ephesians                   6  \n",
       "Philippians                 4  \n",
       "Colossians                  4  \n",
       "1 Thessalonians             5  \n",
       "2 Thessalonians             3  \n",
       "1 Timothy                   6  \n",
       "2 Timothy                   4  \n",
       "Titus                       3  \n",
       "Philemon                    1  \n",
       "Hebrews                    13  \n",
       "James                       5  \n",
       "1 Peter                     5  \n",
       "2 Peter                     3  \n",
       "1 John                      5  \n",
       "2 John                      1  \n",
       "3 John                      1  \n",
       "Jude                        1  \n",
       "Revelation                 22  "
      ]
     },
     "execution_count": 1,
     "metadata": {},
     "output_type": "execute_result"
    }
   ],
   "source": [
    "# Read in the corpus, including punctuation!\n",
    "import pandas as pd\n",
    "\n",
    "data = pd.read_pickle('corpus.pkl')\n",
    "data"
   ]
  },
  {
   "cell_type": "code",
   "execution_count": 2,
   "metadata": {},
   "outputs": [],
   "source": [
    "# Remove chapter & verse numbering and newlines\n",
    "import re\n",
    "import string\n",
    "\n",
    "def clean_text_round1(text):\n",
    "    \"\"\"Make text lowercase, remove chapter and verse numbering (and all other numbers), and remove punctuation.\"\"\"\n",
    "    text = re.sub('[0-9]+:[0-9]+', '', text)  # remove all chapter:verse references\n",
    "    text = re.sub('[0-9]+', '', text)         # remove all remaining numbers\n",
    "    text = re.sub('\\n', '', text)             # remove newlines\n",
    "    return text\n",
    "\n",
    "round1 = lambda x: clean_text_round1(x)\n",
    "data_clean = data.book_text.apply(round1)"
   ]
  },
  {
   "cell_type": "code",
   "execution_count": 3,
   "metadata": {},
   "outputs": [
    {
     "data": {
      "text/plain": [
       "pandas.core.series.Series"
      ]
     },
     "execution_count": 3,
     "metadata": {},
     "output_type": "execute_result"
    }
   ],
   "source": [
    "type(data_clean)"
   ]
  },
  {
   "cell_type": "code",
   "execution_count": 4,
   "metadata": {},
   "outputs": [],
   "source": [
    "# get text from several of Paul's letters\n",
    "books_by_paul =[\n",
    "    \"Romans\", \n",
    "    \"1 Corinthians\",\n",
    "    \"2 Corinthians\",\n",
    "    \"Galatians\",\n",
    "    \"Ephesians\",\n",
    "    \"Philippians\",\n",
    "    \"Colossians\",\n",
    "    \"1 Thessalonians\",\n",
    "    \"2 Thessalonians\",\n",
    "    \"1 Timothy\",\n",
    "    \"2 Timothy\",\n",
    "    \"Titus\",\n",
    "    \"Philemon\",\n",
    "]\n",
    "paul_text = ''.join([data_clean.loc[b] for b in books_by_paul])\n",
    "john_text = data_clean.loc['John']\n",
    "synoptic_text = ''.join([data_clean.loc[b] for b in ['Matthew', 'Mark', 'Luke']])\n",
    "#paul_text"
   ]
  },
  {
   "cell_type": "markdown",
   "metadata": {},
   "source": [
    "## Build a Markov Chain Function"
   ]
  },
  {
   "cell_type": "markdown",
   "metadata": {},
   "source": [
    "We are going to build a simple Markov chain function that creates a dictionary:\n",
    "* The keys should be all of the words in the corpus\n",
    "* The values should be a list of the words that follow the keys"
   ]
  },
  {
   "cell_type": "code",
   "execution_count": 5,
   "metadata": {
    "tags": []
   },
   "outputs": [],
   "source": [
    "from collections import defaultdict\n",
    "\n",
    "def markov_chain(text):\n",
    "    '''The input is a string of text and the output will be a dictionary with each word as\n",
    "       a key and each value as the list of words that come after the key in the text.'''\n",
    "    \n",
    "    # Tokenize the text by word, though including punctuation\n",
    "    words = text.split(' ')\n",
    "    \n",
    "    # Initialize a default dictionary to hold all of the words and next words\n",
    "    m_dict = defaultdict(list)\n",
    "    \n",
    "    # Create a zipped list of all of the word pairs and put them in word: list of next words format\n",
    "    for current_word, next_word in zip(words[0:-1], words[1:]):\n",
    "        m_dict[current_word].append(next_word)\n",
    "\n",
    "    # Convert the default dict back into a dictionary\n",
    "    m_dict = dict(m_dict)\n",
    "    return m_dict"
   ]
  },
  {
   "cell_type": "code",
   "execution_count": 6,
   "metadata": {},
   "outputs": [],
   "source": [
    "# Create the dictionary from the text\n",
    "paul_dict = markov_chain(paul_text)\n",
    "john_dict = markov_chain(john_text)\n",
    "synoptic_dict = markov_chain(synoptic_text)\n",
    "#paul_dict"
   ]
  },
  {
   "cell_type": "markdown",
   "metadata": {},
   "source": [
    "## Create a Text Generator"
   ]
  },
  {
   "cell_type": "markdown",
   "metadata": {},
   "source": [
    "We're going to create a function that generates sentences. It will take two things as inputs:\n",
    "* The dictionary you just created\n",
    "* The number of words you want generated\n",
    "\n",
    "Here are some examples of generated sentences:\n",
    "\n",
    ">'Shape right turn– I also takes so that she’s got women all know that snail-trail.'\n",
    "\n",
    ">'Optimum level of early retirement, and be sure all the following Tuesday… because it’s too.'"
   ]
  },
  {
   "cell_type": "code",
   "execution_count": 7,
   "metadata": {
    "tags": []
   },
   "outputs": [],
   "source": [
    "import random\n",
    "\n",
    "def generate_sentence(chain, count=25):\n",
    "    '''Input a dictionary in the format of key = current word, value = list of next words\n",
    "       along with the number of words you would like to see in your generated sentence.'''\n",
    "\n",
    "    # Capitalize the first word\n",
    "    word1 = random.choice(list(chain.keys()))\n",
    "    sentence = word1.capitalize()\n",
    "\n",
    "    # Generate the second word from the value list. Set the new word as the first word. Repeat.\n",
    "    for i in range(count-1):\n",
    "        word2 = random.choice(chain[word1])\n",
    "        word1 = word2\n",
    "        sentence += ' ' + word2\n",
    "\n",
    "    # End it with a period\n",
    "    sentence += '.'\n",
    "    return(sentence)"
   ]
  },
  {
   "cell_type": "code",
   "execution_count": 8,
   "metadata": {},
   "outputs": [
    {
     "data": {
      "text/plain": [
       "'Lawful,” but the multifaceted wisdom but not slanderous, temperate, self-controlled,     If they are not have the whole body, the law the.'"
      ]
     },
     "execution_count": 8,
     "metadata": {},
     "output_type": "execute_result"
    }
   ],
   "source": [
    "generate_sentence(paul_dict)"
   ]
  },
  {
   "cell_type": "code",
   "execution_count": 9,
   "metadata": {},
   "outputs": [
    {
     "data": {
      "text/plain": [
       "'Ran faster than for you, look for me into the world would not lost his parents sinned, but the Samaritans came from God.  .'"
      ]
     },
     "execution_count": 9,
     "metadata": {},
     "output_type": "execute_result"
    }
   ],
   "source": [
    "generate_sentence(john_dict)"
   ]
  },
  {
   "cell_type": "code",
   "execution_count": 10,
   "metadata": {},
   "outputs": [
    {
     "data": {
      "text/plain": [
       "'Move; nothing to anyone, forgive you your ears had arrested Jesus, realizing their deceit and built his disciples are rich, for help. “If we wear?’.'"
      ]
     },
     "execution_count": 10,
     "metadata": {},
     "output_type": "execute_result"
    }
   ],
   "source": [
    "generate_sentence(synoptic_dict)"
   ]
  },
  {
   "cell_type": "markdown",
   "metadata": {},
   "source": [
    "## Additional Exercises"
   ]
  },
  {
   "cell_type": "markdown",
   "metadata": {},
   "source": [
    "1. Try making the generate_sentence function better. Maybe allow it to end with a random punctuation mark or end whenever it gets to a word that already ends with a punctuation mark."
   ]
  },
  {
   "cell_type": "code",
   "execution_count": null,
   "metadata": {
    "collapsed": true,
    "jupyter": {
     "outputs_hidden": true
    }
   },
   "outputs": [],
   "source": []
  }
 ],
 "metadata": {
  "kernelspec": {
   "display_name": "Python 3",
   "language": "python",
   "name": "python3"
  },
  "language_info": {
   "codemirror_mode": {
    "name": "ipython",
    "version": 3
   },
   "file_extension": ".py",
   "mimetype": "text/x-python",
   "name": "python",
   "nbconvert_exporter": "python",
   "pygments_lexer": "ipython3",
   "version": "3.9.13"
  },
  "toc": {
   "nav_menu": {},
   "number_sections": true,
   "sideBar": true,
   "skip_h1_title": false,
   "toc_cell": false,
   "toc_position": {},
   "toc_section_display": "block",
   "toc_window_display": false
  },
  "varInspector": {
   "cols": {
    "lenName": 16,
    "lenType": 16,
    "lenVar": 40
   },
   "kernels_config": {
    "python": {
     "delete_cmd_postfix": "",
     "delete_cmd_prefix": "del ",
     "library": "var_list.py",
     "varRefreshCmd": "print(var_dic_list())"
    },
    "r": {
     "delete_cmd_postfix": ") ",
     "delete_cmd_prefix": "rm(",
     "library": "var_list.r",
     "varRefreshCmd": "cat(var_dic_list()) "
    }
   },
   "types_to_exclude": [
    "module",
    "function",
    "builtin_function_or_method",
    "instance",
    "_Feature"
   ],
   "window_display": false
  }
 },
 "nbformat": 4,
 "nbformat_minor": 4
}
