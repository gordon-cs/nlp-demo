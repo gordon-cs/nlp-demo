{
 "cells": [
  {
   "cell_type": "markdown",
   "metadata": {
    "id": "G2GM986eMch6"
   },
   "source": [
    "# Text Generation\n",
    "\n",
    "This is a fork of https://github.com/adashofdata/nlp-in-python-tutorial.  Rather than using the transcripts of stand-up comedians, it uses the text of New Testament books of the Bible.\n",
    "\n",
    "- Created Nov 2022\n",
    "- Revised Nov 2024"
   ]
  },
  {
   "cell_type": "code",
   "execution_count": 1,
   "metadata": {
    "id": "AZJ3XlGOMfkj"
   },
   "outputs": [],
   "source": [
    "# # Load the Drive helper and mount\n",
    "# from google.colab import drive\n",
    "# drive.mount('/content/drive')\n",
    "\n",
    "import os\n",
    "# base_dir = '/content/drive/MyDrive/ColabData/NLP_Demo/'\n",
    "base_dir = '.'\n",
    "\n",
    "try:\n",
    "    os.mkdir(base_dir)\n",
    "except FileExistsError:\n",
    "    pass"
   ]
  },
  {
   "cell_type": "markdown",
   "metadata": {
    "id": "nFv1dTyIMch-"
   },
   "source": [
    "## Introduction"
   ]
  },
  {
   "cell_type": "markdown",
   "metadata": {
    "id": "ALU7yVfhMch-"
   },
   "source": [
    "Markov chains can be used for very basic text generation. Think about every word in a corpus as a state. We can make a simple assumption that the next word is only dependent on the previous word - which is the basic assumption of a Markov chain.\n",
    "\n",
    "Markov chains don't generate text as well as deep learning, but it's a good (and fun!) start."
   ]
  },
  {
   "cell_type": "markdown",
   "metadata": {
    "id": "9m4g0vF4Mch_"
   },
   "source": [
    "## Select Text to Imitate"
   ]
  },
  {
   "cell_type": "markdown",
   "metadata": {
    "id": "mZ45NngzMch_"
   },
   "source": [
    "In this notebook, we're specifically going to generate text in the style of Paul, so as a first step, let's extract the text from his letters."
   ]
  },
  {
   "cell_type": "code",
   "execution_count": 2,
   "metadata": {
    "id": "SkfkU91UMch_"
   },
   "outputs": [
    {
     "data": {
      "text/html": [
       "<div>\n",
       "<style scoped>\n",
       "    .dataframe tbody tr th:only-of-type {\n",
       "        vertical-align: middle;\n",
       "    }\n",
       "\n",
       "    .dataframe tbody tr th {\n",
       "        vertical-align: top;\n",
       "    }\n",
       "\n",
       "    .dataframe thead th {\n",
       "        text-align: right;\n",
       "    }\n",
       "</style>\n",
       "<table border=\"1\" class=\"dataframe\">\n",
       "  <thead>\n",
       "    <tr style=\"text-align: right;\">\n",
       "      <th></th>\n",
       "      <th>book_text</th>\n",
       "      <th>num_chapters</th>\n",
       "    </tr>\n",
       "  </thead>\n",
       "  <tbody>\n",
       "    <tr>\n",
       "      <th>Matthew</th>\n",
       "      <td>1:1 This is the record of the genealogy of Jes...</td>\n",
       "      <td>28</td>\n",
       "    </tr>\n",
       "    <tr>\n",
       "      <th>Mark</th>\n",
       "      <td>1:1 The beginning of the gospel of Jesus Chris...</td>\n",
       "      <td>16</td>\n",
       "    </tr>\n",
       "    <tr>\n",
       "      <th>Luke</th>\n",
       "      <td>1:1 Now many have undertaken to compile an acc...</td>\n",
       "      <td>24</td>\n",
       "    </tr>\n",
       "    <tr>\n",
       "      <th>John</th>\n",
       "      <td>1:1 In the beginning was the Word, and the Wor...</td>\n",
       "      <td>21</td>\n",
       "    </tr>\n",
       "    <tr>\n",
       "      <th>Acts</th>\n",
       "      <td>1:1 I wrote the former account, Theophilus, ab...</td>\n",
       "      <td>28</td>\n",
       "    </tr>\n",
       "    <tr>\n",
       "      <th>Romans</th>\n",
       "      <td>1:1 From Paul, a slave of Christ Jesus, called...</td>\n",
       "      <td>16</td>\n",
       "    </tr>\n",
       "    <tr>\n",
       "      <th>1 Corinthians</th>\n",
       "      <td>1:1 From Paul, called to be an apostle of Chri...</td>\n",
       "      <td>16</td>\n",
       "    </tr>\n",
       "    <tr>\n",
       "      <th>2 Corinthians</th>\n",
       "      <td>1:1 From Paul, an apostle of Christ Jesus by t...</td>\n",
       "      <td>13</td>\n",
       "    </tr>\n",
       "    <tr>\n",
       "      <th>Galatians</th>\n",
       "      <td>1:1 From Paul, an apostle (not from men, nor b...</td>\n",
       "      <td>6</td>\n",
       "    </tr>\n",
       "    <tr>\n",
       "      <th>Ephesians</th>\n",
       "      <td>1:1 From Paul, an apostle of Christ Jesus by t...</td>\n",
       "      <td>6</td>\n",
       "    </tr>\n",
       "    <tr>\n",
       "      <th>Philippians</th>\n",
       "      <td>1:1 From Paul and Timothy, slaves of Christ Je...</td>\n",
       "      <td>4</td>\n",
       "    </tr>\n",
       "    <tr>\n",
       "      <th>Colossians</th>\n",
       "      <td>1:1 From Paul, an apostle of Christ Jesus by t...</td>\n",
       "      <td>4</td>\n",
       "    </tr>\n",
       "    <tr>\n",
       "      <th>1 Thessalonians</th>\n",
       "      <td>1:1 From Paul and Silvanus and Timothy, to the...</td>\n",
       "      <td>5</td>\n",
       "    </tr>\n",
       "    <tr>\n",
       "      <th>2 Thessalonians</th>\n",
       "      <td>1:1 From Paul and Silvanus and Timothy, to the...</td>\n",
       "      <td>3</td>\n",
       "    </tr>\n",
       "    <tr>\n",
       "      <th>1 Timothy</th>\n",
       "      <td>1:1 From Paul, an apostle of Christ Jesus by t...</td>\n",
       "      <td>6</td>\n",
       "    </tr>\n",
       "    <tr>\n",
       "      <th>2 Timothy</th>\n",
       "      <td>1:1 From Paul, an apostle of Christ Jesus by t...</td>\n",
       "      <td>4</td>\n",
       "    </tr>\n",
       "    <tr>\n",
       "      <th>Titus</th>\n",
       "      <td>1:1 From Paul, a slave of God and apostle of J...</td>\n",
       "      <td>3</td>\n",
       "    </tr>\n",
       "    <tr>\n",
       "      <th>Philemon</th>\n",
       "      <td>1:1 From Paul, a prisoner of Christ Jesus, and...</td>\n",
       "      <td>1</td>\n",
       "    </tr>\n",
       "    <tr>\n",
       "      <th>Hebrews</th>\n",
       "      <td>1:1 After God spoke long ago in various portio...</td>\n",
       "      <td>13</td>\n",
       "    </tr>\n",
       "    <tr>\n",
       "      <th>James</th>\n",
       "      <td>1:1 From James, a slave of God and the Lord Je...</td>\n",
       "      <td>5</td>\n",
       "    </tr>\n",
       "    <tr>\n",
       "      <th>1 Peter</th>\n",
       "      <td>1:1 From Peter, an apostle of Jesus Christ, to...</td>\n",
       "      <td>5</td>\n",
       "    </tr>\n",
       "    <tr>\n",
       "      <th>2 Peter</th>\n",
       "      <td>1:1 From Simeon Peter, a slave and apostle of ...</td>\n",
       "      <td>3</td>\n",
       "    </tr>\n",
       "    <tr>\n",
       "      <th>1 John</th>\n",
       "      <td>1:1 This is what we proclaim to you: what was ...</td>\n",
       "      <td>5</td>\n",
       "    </tr>\n",
       "    <tr>\n",
       "      <th>2 John</th>\n",
       "      <td>1:1 From the elder, to an elect lady and her c...</td>\n",
       "      <td>1</td>\n",
       "    </tr>\n",
       "    <tr>\n",
       "      <th>3 John</th>\n",
       "      <td>1:1 From the elder, to Gaius my dear brother, ...</td>\n",
       "      <td>1</td>\n",
       "    </tr>\n",
       "    <tr>\n",
       "      <th>Jude</th>\n",
       "      <td>1:1 From Jude, a slave of Jesus Christ and bro...</td>\n",
       "      <td>1</td>\n",
       "    </tr>\n",
       "    <tr>\n",
       "      <th>Revelation</th>\n",
       "      <td>1:1 The revelation of Jesus Christ, which God ...</td>\n",
       "      <td>22</td>\n",
       "    </tr>\n",
       "  </tbody>\n",
       "</table>\n",
       "</div>"
      ],
      "text/plain": [
       "                                                         book_text  \\\n",
       "Matthew          1:1 This is the record of the genealogy of Jes...   \n",
       "Mark             1:1 The beginning of the gospel of Jesus Chris...   \n",
       "Luke             1:1 Now many have undertaken to compile an acc...   \n",
       "John             1:1 In the beginning was the Word, and the Wor...   \n",
       "Acts             1:1 I wrote the former account, Theophilus, ab...   \n",
       "Romans           1:1 From Paul, a slave of Christ Jesus, called...   \n",
       "1 Corinthians    1:1 From Paul, called to be an apostle of Chri...   \n",
       "2 Corinthians    1:1 From Paul, an apostle of Christ Jesus by t...   \n",
       "Galatians        1:1 From Paul, an apostle (not from men, nor b...   \n",
       "Ephesians        1:1 From Paul, an apostle of Christ Jesus by t...   \n",
       "Philippians      1:1 From Paul and Timothy, slaves of Christ Je...   \n",
       "Colossians       1:1 From Paul, an apostle of Christ Jesus by t...   \n",
       "1 Thessalonians  1:1 From Paul and Silvanus and Timothy, to the...   \n",
       "2 Thessalonians  1:1 From Paul and Silvanus and Timothy, to the...   \n",
       "1 Timothy        1:1 From Paul, an apostle of Christ Jesus by t...   \n",
       "2 Timothy        1:1 From Paul, an apostle of Christ Jesus by t...   \n",
       "Titus            1:1 From Paul, a slave of God and apostle of J...   \n",
       "Philemon         1:1 From Paul, a prisoner of Christ Jesus, and...   \n",
       "Hebrews          1:1 After God spoke long ago in various portio...   \n",
       "James            1:1 From James, a slave of God and the Lord Je...   \n",
       "1 Peter          1:1 From Peter, an apostle of Jesus Christ, to...   \n",
       "2 Peter          1:1 From Simeon Peter, a slave and apostle of ...   \n",
       "1 John           1:1 This is what we proclaim to you: what was ...   \n",
       "2 John           1:1 From the elder, to an elect lady and her c...   \n",
       "3 John           1:1 From the elder, to Gaius my dear brother, ...   \n",
       "Jude             1:1 From Jude, a slave of Jesus Christ and bro...   \n",
       "Revelation       1:1 The revelation of Jesus Christ, which God ...   \n",
       "\n",
       "                 num_chapters  \n",
       "Matthew                    28  \n",
       "Mark                       16  \n",
       "Luke                       24  \n",
       "John                       21  \n",
       "Acts                       28  \n",
       "Romans                     16  \n",
       "1 Corinthians              16  \n",
       "2 Corinthians              13  \n",
       "Galatians                   6  \n",
       "Ephesians                   6  \n",
       "Philippians                 4  \n",
       "Colossians                  4  \n",
       "1 Thessalonians             5  \n",
       "2 Thessalonians             3  \n",
       "1 Timothy                   6  \n",
       "2 Timothy                   4  \n",
       "Titus                       3  \n",
       "Philemon                    1  \n",
       "Hebrews                    13  \n",
       "James                       5  \n",
       "1 Peter                     5  \n",
       "2 Peter                     3  \n",
       "1 John                      5  \n",
       "2 John                      1  \n",
       "3 John                      1  \n",
       "Jude                        1  \n",
       "Revelation                 22  "
      ]
     },
     "execution_count": 2,
     "metadata": {},
     "output_type": "execute_result"
    }
   ],
   "source": [
    "# Read in the corpus, including punctuation!\n",
    "import pandas as pd\n",
    "\n",
    "data = pd.read_pickle(os.path.join(base_dir, 'corpus.pkl'))\n",
    "data"
   ]
  },
  {
   "cell_type": "code",
   "execution_count": 3,
   "metadata": {
    "id": "X9er2Ng1MciB"
   },
   "outputs": [],
   "source": [
    "# Remove chapter & verse numbering and newlines\n",
    "import re\n",
    "import string\n",
    "\n",
    "def clean_text_round1(text):\n",
    "    \"\"\"Make text lowercase, remove chapter and verse numbering (and all other numbers), and remove punctuation.\"\"\"\n",
    "    text = re.sub('[0-9]+:[0-9]+', '', text)  # remove all chapter:verse references\n",
    "    text = re.sub('[0-9]+', '', text)         # remove all remaining numbers\n",
    "    text = re.sub('\\n', '', text)             # remove newlines\n",
    "    return text\n",
    "\n",
    "round1 = lambda x: clean_text_round1(x)\n",
    "data_clean = data.book_text.apply(round1)"
   ]
  },
  {
   "cell_type": "code",
   "execution_count": 4,
   "metadata": {
    "id": "j3M-KfHuMciC"
   },
   "outputs": [],
   "source": [
    "# get text from several of Paul's letters\n",
    "books_by_paul = [\n",
    "    'Romans',\n",
    "    '1 Corinthians',\n",
    "    '2 Corinthians',\n",
    "    'Galatians',\n",
    "    'Ephesians',\n",
    "    'Philippians',\n",
    "    'Colossians',\n",
    "    '1 Thessalonians',\n",
    "    '2 Thessalonians',\n",
    "    '1 Timothy',\n",
    "    '2 Timothy',\n",
    "    'Titus',\n",
    "    'Philemon',\n",
    "]\n",
    "paul_text = ''.join([data_clean.loc[b] for b in books_by_paul])\n",
    "john_text = data_clean.loc['John']\n",
    "synoptic_text = ''.join([data_clean.loc[b] for b in ['Matthew', 'Mark', 'Luke']])\n",
    "#paul_text"
   ]
  },
  {
   "cell_type": "markdown",
   "metadata": {
    "id": "PNrNfEhiMciC"
   },
   "source": [
    "## Build a Markov Chain Function"
   ]
  },
  {
   "cell_type": "markdown",
   "metadata": {
    "id": "KRCoUHyAMciC"
   },
   "source": [
    "We are going to build a simple Markov chain function that creates a dictionary:\n",
    "* The keys should be all of the words in the corpus\n",
    "* The values should be a list of the words that follow the keys"
   ]
  },
  {
   "cell_type": "code",
   "execution_count": 5,
   "metadata": {
    "id": "C0yaSDP9MciC",
    "tags": []
   },
   "outputs": [],
   "source": [
    "from collections import defaultdict\n",
    "\n",
    "def markov_chain(text):\n",
    "    \"\"\"The input is a string of text and the output will be a dictionary with each word as\n",
    "       a key and each value as the list of words that come after the key in the text.\"\"\"\n",
    "\n",
    "    # Tokenize the text by word, though including punctuation\n",
    "    words = text.split(' ')\n",
    "\n",
    "    # Initialize a default dictionary to hold all of the words and next words\n",
    "    m_dict = defaultdict(list)\n",
    "\n",
    "    # Create a zipped list of all of the word pairs and put them in word: list of next words format\n",
    "    for current_word, next_word in zip(words[0:-1], words[1:]):\n",
    "        m_dict[current_word].append(next_word)\n",
    "\n",
    "    # Convert the default dict back into a dictionary\n",
    "    m_dict = dict(m_dict)\n",
    "    return m_dict"
   ]
  },
  {
   "cell_type": "code",
   "execution_count": 6,
   "metadata": {
    "id": "O6xyrBaXMciD"
   },
   "outputs": [],
   "source": [
    "# Create the dictionary from the text\n",
    "paul_dict = markov_chain(paul_text)\n",
    "john_dict = markov_chain(john_text)\n",
    "synoptic_dict = markov_chain(synoptic_text)\n",
    "#paul_dict"
   ]
  },
  {
   "cell_type": "markdown",
   "metadata": {
    "id": "Liwv_aLbMciD"
   },
   "source": [
    "## Create a Text Generator"
   ]
  },
  {
   "cell_type": "markdown",
   "metadata": {
    "id": "zcVB3m4fMciD"
   },
   "source": [
    "We're going to create a function that generates sentences. It will take two things as inputs:\n",
    "* The dictionary you just created\n",
    "* The number of words you want generated\n",
    "\n",
    "Here are some examples of generated sentences:\n",
    "\n",
    ">'Shape right turn– I also takes so that she’s got women all know that snail-trail.'\n",
    "\n",
    ">'Optimum level of early retirement, and be sure all the following Tuesday… because it’s too.'"
   ]
  },
  {
   "cell_type": "code",
   "execution_count": 7,
   "metadata": {
    "id": "jy0sYDxuMciD",
    "tags": []
   },
   "outputs": [],
   "source": [
    "import random\n",
    "\n",
    "def generate_sentence(chain, count=25):\n",
    "    \"\"\"Input a dictionary in the format of key = current word, value = list of next words\n",
    "       along with the number of words you would like to see in your generated sentence.\"\"\"\n",
    "\n",
    "    # Capitalize the first word\n",
    "    word1 = random.choice(list(chain.keys()))\n",
    "    sentence = word1.capitalize()\n",
    "\n",
    "    # Generate the second word from the value list. Set the new word as the first word. Repeat.\n",
    "    for i in range(count-1):\n",
    "        word2 = random.choice(chain[word1])\n",
    "        word1 = word2\n",
    "        sentence += ' ' + word2\n",
    "\n",
    "    # End it with a period\n",
    "    sentence += '.'\n",
    "    return(sentence)"
   ]
  },
  {
   "cell_type": "code",
   "execution_count": 8,
   "metadata": {
    "id": "XfSpkqA6MciD"
   },
   "outputs": [
    {
     "data": {
      "text/plain": [
       "'Slanders, evil one.     but we endure,   I passed on those who rejoice,   So then, brothers and blameless.'"
      ]
     },
     "execution_count": 8,
     "metadata": {},
     "output_type": "execute_result"
    }
   ],
   "source": [
    "generate_sentence(paul_dict)"
   ]
  },
  {
   "cell_type": "code",
   "execution_count": 9,
   "metadata": {
    "id": "hx2ydcyRMciD"
   },
   "outputs": [
    {
     "data": {
      "text/plain": [
       "'Secret.      Nathanael (who was Jesus.    Eight days already.   Andrew, Simon Peter said to the man.'"
      ]
     },
     "execution_count": 9,
     "metadata": {},
     "output_type": "execute_result"
    }
   ],
   "source": [
    "generate_sentence(john_dict)"
   ]
  },
  {
   "cell_type": "code",
   "execution_count": 10,
   "metadata": {
    "id": "2bL-kvkKMciD"
   },
   "outputs": [
    {
     "data": {
      "text/plain": [
       "'Mother named Jairus, came to Jesus replied as we have found one hair with it.   For this way.  I will worship me.'"
      ]
     },
     "execution_count": 10,
     "metadata": {},
     "output_type": "execute_result"
    }
   ],
   "source": [
    "generate_sentence(synoptic_dict)"
   ]
  },
  {
   "cell_type": "markdown",
   "metadata": {
    "id": "yrScc_0OMciD"
   },
   "source": [
    "## Additional Exercises"
   ]
  },
  {
   "cell_type": "markdown",
   "metadata": {
    "id": "N3fJdhCqMciD"
   },
   "source": [
    "1. Try making the generate_sentence function better. Maybe allow it to end with a random punctuation mark or end whenever it gets to a word that already ends with a punctuation mark."
   ]
  },
  {
   "cell_type": "code",
   "execution_count": null,
   "metadata": {
    "id": "WQVxVh2iMciD"
   },
   "outputs": [],
   "source": []
  }
 ],
 "metadata": {
  "colab": {
   "provenance": []
  },
  "kernelspec": {
   "display_name": "Python 3 (ipykernel)",
   "language": "python",
   "name": "python3"
  },
  "language_info": {
   "codemirror_mode": {
    "name": "ipython",
    "version": 3
   },
   "file_extension": ".py",
   "mimetype": "text/x-python",
   "name": "python",
   "nbconvert_exporter": "python",
   "pygments_lexer": "ipython3",
   "version": "3.10.14"
  },
  "toc": {
   "nav_menu": {},
   "number_sections": true,
   "sideBar": true,
   "skip_h1_title": false,
   "toc_cell": false,
   "toc_position": {},
   "toc_section_display": "block",
   "toc_window_display": false
  },
  "varInspector": {
   "cols": {
    "lenName": 16,
    "lenType": 16,
    "lenVar": 40
   },
   "kernels_config": {
    "python": {
     "delete_cmd_postfix": "",
     "delete_cmd_prefix": "del ",
     "library": "var_list.py",
     "varRefreshCmd": "print(var_dic_list())"
    },
    "r": {
     "delete_cmd_postfix": ") ",
     "delete_cmd_prefix": "rm(",
     "library": "var_list.r",
     "varRefreshCmd": "cat(var_dic_list()) "
    }
   },
   "types_to_exclude": [
    "module",
    "function",
    "builtin_function_or_method",
    "instance",
    "_Feature"
   ],
   "window_display": false
  }
 },
 "nbformat": 4,
 "nbformat_minor": 4
}
